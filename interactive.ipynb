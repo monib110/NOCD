{
 "cells": [
  {
   "cell_type": "markdown",
   "metadata": {},
   "source": [
    "Import requirements"
   ]
  },
  {
   "cell_type": "code",
   "execution_count": 16,
   "metadata": {
    "scrolled": true
   },
   "outputs": [],
   "source": [
    "import matplotlib.pyplot as plt\n",
    "import numpy as np\n",
    "import scipy.sparse as sp\n",
    "import torch\n",
    "import torch.nn as nn\n",
    "import torch.nn.functional as F\n",
    "\n",
    "from sklearn.preprocessing import normalize\n",
    "import nocd\n",
    "torch.set_default_tensor_type(torch.FloatTensor)"
   ]
  },
  {
   "cell_type": "markdown",
   "metadata": {},
   "source": [
    "Load the dataset\n",
    " - `A` (adjacency matrix) is a `scipy.sparse.csr_matrix` of size `[N, N]`\n",
    " - `X` (attribute matrix) is a `scipy.sparse.csr_matrix` of size `[N, D]`\n",
    " - `Z_gt` (binary community affiliation matrix) is a `np.ndarray` of size `[N, K]`\n",
    "\n",
    "\n",
    " N : number of samples , \n",
    " K: number of communities"
   ]
  },
  {
   "cell_type": "code",
   "execution_count": 17,
   "metadata": {},
   "outputs": [],
   "source": [
    "loader = nocd.data.load_dataset('data/fb_686.npz')\n",
    "A, X, Z_gt = loader['A'], loader['X'], loader['Z']\n",
    "N, K = Z_gt.shape"
   ]
  },
  {
   "cell_type": "markdown",
   "metadata": {},
   "source": [
    "Define the hyperparameters"
   ]
  },
  {
   "cell_type": "code",
   "execution_count": 18,
   "metadata": {},
   "outputs": [],
   "source": [
    "hidden_sizes = [128]    # hidden sizes of the GNN\n",
    "weight_decay = 1e-2     # strength of L2 regularization on GNN weights\n",
    "dropout = 0.5           # whether to use dropout\n",
    "batch_norm = True       # whether to use batch norm\n",
    "lr = 1e-3               # learning rate\n",
    "max_epochs = 1000        # number of epochs to train\n",
    "display_step = 25       # how often to compute validation loss\n",
    "balance_loss = True     # whether to use balanced loss\n",
    "stochastic_loss = True  # whether to use stochastic or full-batch training\n",
    "batch_size = 20000      # batch size (only for stochastic training)"
   ]
  },
  {
   "cell_type": "markdown",
   "metadata": {},
   "source": [
    "Select & normalize the feature matrix\n",
    "\n",
    "For some datasets where the features are very informative / correlated with the community structure it's better to use `X` as input (e.g. co-authorship networks w/ keywords as node features). Otherwise, you should try using `A` or `[A, X]` as input."
   ]
  },
  {
   "cell_type": "code",
   "execution_count": 19,
   "metadata": {},
   "outputs": [],
   "source": [
    "x_norm = normalize(X)  # node features\n",
    "# x_norm = normalize(A)  # adjacency matrix\n",
    "# x_norm = sp.hstack([normalize(X), normalize(A)])  # concatenate A and X\n",
    "x_norm = nocd.utils.to_sparse_tensor(x_norm)"
   ]
  },
  {
   "cell_type": "markdown",
   "metadata": {},
   "source": [
    "Normalize input"
   ]
  },
  {
   "cell_type": "code",
   "execution_count": 20,
   "metadata": {},
   "outputs": [],
   "source": [
    "from nocd.utils import to_sparse_tensor\n",
    "def normalize_adj(adj : sp.csr_matrix):\n",
    "    if sp.isspmatrix(adj):\n",
    "        adj = adj.tolil()\n",
    "        adj.setdiag(1)\n",
    "        adj = adj.tocsr()\n",
    "        deg = np.ravel(adj.sum(1))\n",
    "        deg_sqrt_inv = 1 / np.sqrt(deg)\n",
    "        adj_norm = adj.multiply(deg_sqrt_inv[:, None]).multiply(deg_sqrt_inv[None, :])\n",
    "    elif torch.is_tensor(adj):\n",
    "        deg = adj.sum(1)\n",
    "        deg_sqrt_inv = 1 / torch.sqrt(deg)\n",
    "        adj_norm = adj * deg_sqrt_inv[:, None] * deg_sqrt_inv[None, :]\n",
    "    return to_sparse_tensor(adj_norm)"
   ]
  },
  {
   "cell_type": "markdown",
   "metadata": {},
   "source": [
    "Define the GNN model"
   ]
  },
  {
   "cell_type": "code",
   "execution_count": 21,
   "metadata": {},
   "outputs": [],
   "source": [
    "sampler = nocd.sampler.get_edge_sampler(A, batch_size, batch_size, num_workers=5)\n",
    "gnn = nocd.nn.GCN(x_norm.shape[1], hidden_sizes, K, batch_norm=batch_norm, dropout=dropout)\n",
    "#gnn = nocd.nn.ImprovedGCN(x_norm.shape[1], hidden_sizes, K, layer_norm=batch_norm, dropout=dropout)\n",
    "adj_norm =normalize_adj(A)\n",
    "decoder = nocd.nn.BerpoDecoder(N, A.nnz, balance_loss=balance_loss)\n",
    "opt = torch.optim.Adam(gnn.parameters(), lr=lr)"
   ]
  },
  {
   "cell_type": "markdown",
   "metadata": {},
   "source": [
    "Get NMI "
   ]
  },
  {
   "cell_type": "code",
   "execution_count": 22,
   "metadata": {},
   "outputs": [],
   "source": [
    "def get_nmi(thresh=0.5):\n",
    "    gnn.eval()\n",
    "    Z = F.relu(gnn(x_norm, adj_norm))\n",
    "    Z_pred = Z.cpu().detach().numpy() > thresh\n",
    "    nmi = nocd.metrics.overlapping_nmi(Z_pred, Z_gt)\n",
    "    return nmi"
   ]
  },
  {
   "cell_type": "markdown",
   "metadata": {},
   "source": [
    "Training loop"
   ]
  },
  {
   "cell_type": "code",
   "execution_count": 31,
   "metadata": {},
   "outputs": [
    {
     "name": "stdout",
     "output_type": "stream",
     "text": [
      "Epoch    0, loss.full = 0.3281, nmi = 0.21\n",
      "Epoch   50, loss.full = 0.3200, nmi = 0.18\n",
      "Epoch  100, loss.full = 0.3178, nmi = 0.19\n",
      "Epoch  150, loss.full = 0.3173, nmi = 0.20\n",
      "Epoch  200, loss.full = 0.3161, nmi = 0.18\n",
      "Epoch  250, loss.full = 0.3212, nmi = 0.20\n",
      "Epoch  300, loss.full = 0.3250, nmi = 0.19\n",
      "Epoch  350, loss.full = 0.3118, nmi = 0.19\n",
      "Epoch  400, loss.full = 0.3169, nmi = 0.18\n",
      "Epoch  450, loss.full = 0.3243, nmi = 0.21\n",
      "Epoch  500, loss.full = 0.3199, nmi = 0.21\n",
      "Epoch  550, loss.full = 0.3226, nmi = 0.20\n",
      "Epoch  600, loss.full = 0.3181, nmi = 0.19\n",
      "Epoch  650, loss.full = 0.3226, nmi = 0.20\n",
      "Epoch  700, loss.full = 0.3144, nmi = 0.19\n",
      "Epoch  750, loss.full = 0.3227, nmi = 0.20\n",
      "Epoch  800, loss.full = 0.3180, nmi = 0.19\n",
      "Epoch  850, loss.full = 0.3162, nmi = 0.20\n",
      "Epoch  900, loss.full = 0.3294, nmi = 0.21\n",
      "Epoch  950, loss.full = 0.3152, nmi = 0.19\n",
      "Epoch 1000, loss.full = 0.3202, nmi = 0.19\n"
     ]
    }
   ],
   "source": [
    "val_loss = np.inf\n",
    "validation_fn = lambda: val_loss\n",
    "\n",
    "for epoch, batch in enumerate(sampler):\n",
    "    if epoch > max_epochs:\n",
    "        break\n",
    "    if epoch %50 == 0:\n",
    "        with torch.no_grad():\n",
    "            gnn.eval()\n",
    "\n",
    "            Z = F.relu(gnn(x_norm, adj_norm))\n",
    "            val_loss = decoder.loss_full(Z, A)\n",
    "            print(f'Epoch {epoch:4d}, loss.full = {val_loss:.4f}, nmi = {get_nmi():.2f}')\n",
    "            \n",
    "    gnn.train()\n",
    "    opt.zero_grad()\n",
    "    Z = F.relu(gnn(x_norm, adj_norm))\n",
    "    ones_idx, zeros_idx = batch\n",
    "    if stochastic_loss:\n",
    "        loss = decoder.loss_batch(Z, ones_idx, zeros_idx)\n",
    "    else:\n",
    "        loss = decoder.loss_full(Z, A)\n",
    "    loss += nocd.utils.l2_reg_loss(gnn, scale=weight_decay)\n",
    "    loss.backward()\n",
    "    opt.step()"
   ]
  },
  {
   "cell_type": "markdown",
   "metadata": {},
   "source": [
    "Depending on whether you use balanced loss or not, you should (probably) use different threshold values. From my experience, following are reasonable defaults:\n",
    " - for `balance_loss = True`: `thresh = 0.5`\n",
    " - for `balance_loss = False`: `thresh = 0.01`\n",
    " \n",
    "You can look at the distribution of the non-zero entries of `Z` to decide on a good value for the threshold. \n",
    "I guess it makes sense to select a value that lies in the leftmost \"valley\" of histogram below. \n",
    "You can also look at the unsupervised metrics in the next section of this notebook to make an informed choice.\n",
    "\n",
    "Note that all of these are just speculations based on the behavior that I observed for a handful of datasets, YMMV."
   ]
  },
  {
   "cell_type": "code",
   "execution_count": 32,
   "metadata": {},
   "outputs": [
    {
     "name": "stdout",
     "output_type": "stream",
     "text": [
      "Final nmi = 0.195\n"
     ]
    }
   ],
   "source": [
    "thresh = 0.5\n",
    "\n",
    "Z = F.relu(gnn(x_norm, adj_norm))\n",
    "Z_pred = Z.cpu().detach().numpy() > thresh\n",
    "\n",
    "print(f'Final nmi = {get_nmi(thresh):.3f}')"
   ]
  },
  {
   "cell_type": "markdown",
   "metadata": {},
   "source": [
    "Visualize the adjacency matrix sorted by the communities"
   ]
  },
  {
   "cell_type": "code",
   "execution_count": 25,
   "metadata": {},
   "outputs": [
    {
     "data": {
      "image/png": "[encoded data removed]",
      "text/plain": [
       "<Figure size 720x720 with 1 Axes>"
      ]
     },
     "metadata": {},
     "output_type": "display_data"
    }
   ],
   "source": [
    "\n",
    "plt.figure(figsize=[10, 10])\n",
    "z = np.argmax(Z_pred, 1)\n",
    "o = np.argsort(z)\n",
    "nocd.utils.plot_sparse_clustered_adjacency(A, K, z, o, markersize=0.05)"
   ]
  },
  {
   "cell_type": "code",
   "execution_count": 26,
   "metadata": {},
   "outputs": [
    {
     "name": "stdout",
     "output_type": "stream",
     "text": [
      "[14 11  2  3  3  4  0  0 29 47  0 56  2 32]\n"
     ]
    }
   ],
   "source": [
    "# Print Sizes of detected communities\n",
    "print(Z_pred.sum(0))"
   ]
  }
 ],
 "metadata": {
  "kernelspec": {
   "display_name": "Python 3.10.1 64-bit",
   "language": "python",
   "name": "python3"
  },
  "language_info": {
   "codemirror_mode": {
    "name": "ipython",
    "version": 3
   },
   "file_extension": ".py",
   "mimetype": "text/x-python",
   "name": "python",
   "nbconvert_exporter": "python",
   "pygments_lexer": "ipython3",
   "version": "3.10.1"
  },
  "toc": {
   "base_numbering": 1,
   "nav_menu": {},
   "number_sections": true,
   "sideBar": true,
   "skip_h1_title": false,
   "title_cell": "Table of Contents",
   "title_sidebar": "Contents",
   "toc_cell": false,
   "toc_position": {},
   "toc_section_display": true,
   "toc_window_display": false
  },
  "vscode": {
   "interpreter": {
    "hash": "7d675f8e41a9b5b65cd34a0f15674ded7180eb916ea1cdd2e5130dbc27a92b2d"
   }
  }
 },
 "nbformat": 4,
 "nbformat_minor": 2
}
